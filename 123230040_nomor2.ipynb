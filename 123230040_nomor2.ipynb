{
 "cells": [
  {
   "cell_type": "markdown",
   "metadata": {},
   "source": [
    "# Nomor 2 - Latihan Responsi AHP"
   ]
  },
  {
   "cell_type": "markdown",
   "metadata": {},
   "source": [
    "Studi Kasus: Pemilihan pembelian motor.\n",
    "\n",
    "Nama: Gusti Rama\n",
    "\n",
    "NIM: 123230040\n",
    "\n",
    "Plug: IF-F"
   ]
  },
  {
   "cell_type": "markdown",
   "metadata": {},
   "source": [
    "## Pengaturan Data"
   ]
  },
  {
   "cell_type": "markdown",
   "metadata": {},
   "source": [
    "Penentuan **Alternatif** dan **Kriteria**\n",
    "- Alternatif\n",
    "    - A1: Canon EOS R6\n",
    "    - A2: Nikon Z6 II\n",
    "    - A3: Sony Alpha A7 III\n",
    "    - A4: Fujifilm X-T4\n",
    "    - A5: Panasonic Lumix GH5\n",
    "- Kriteria\n",
    "    - C1: RAM\n",
    "    - C2: Harga\n",
    "    - C3: Kamera\n",
    "    - C4: Baterai\n",
    "    - C5: Storage"
   ]
  },
  {
   "cell_type": "markdown",
   "metadata": {},
   "source": [
    "**Spesifikasi**:\n",
    "|  |Resolusi (MP) | Harga (rp) | Baterai | Video (fps) | Berat (gr) |\n",
    "|------------|------------|------------|------------|------------|------------|\n",
    "| A1 | 20 | 42.000.000 | 510 | 60 | 680 |\n",
    "| A2 | 24 | 38.000.000 | 360 | 120 | 705 |\n",
    "| A3 | 24 | 39.500.000 | 610 | 60 | 650 |\n",
    "| A4 | 26 | 29.000.000 | 500 | 60 | 607 |\n",
    "| A5 | 20 | 21.000.000 | 400 | 60 | 725 |"
   ]
  },
  {
   "cell_type": "markdown",
   "metadata": {},
   "source": [
    "**Tingkat Kepentingan**:\n",
    "| Intensitas | Keterangan |\n",
    "|------------|------------|\n",
    "| 1 | X dan Y sama penting/baik |\n",
    "| 2 | X sedikit lebih penting/baik dari Y |\n",
    "| 3 | X lebih penting/baik dari Y |\n",
    "| 4 | X jauh lebih penting/baik dari Y |"
   ]
  },
  {
   "cell_type": "markdown",
   "metadata": {},
   "source": [
    "**Preferensi Kriteria**\n",
    "1. Resolusi 4 kali lebih penting dari Berat, 3 kali lebih penting dari Harga, dan 4 kali\n",
    "lebih penting dari Baterai.\n",
    "2. Harga 3 kali lebih penting dari Baterai dan 2 kali lebih penting dari Fitur Video.\n",
    "3. Baterai 2 kali lebih penting dari Fitur Video dan 2 kali lebih penting dari Berat.\n",
    "4. Fitur Video 2 kali lebih penting dari Berat.\n",
    "5. Berat merupakan kriteria dengan prioritas paling rendah."
   ]
  },
  {
   "cell_type": "code",
   "execution_count": 19,
   "metadata": {},
   "outputs": [],
   "source": [
    "import numpy as np"
   ]
  },
  {
   "cell_type": "code",
   "execution_count": 20,
   "metadata": {},
   "outputs": [],
   "source": [
    "def hitung_normalisasi(M):\n",
    "    print(\"\\n Normalisasi\")\n",
    "    if M.ndim == 1:\n",
    "        sM = np.sum(M)\n",
    "        return M/sM\n",
    "    else:\n",
    "      sM = np.sum(M, axis = 0)\n",
    "      return M/sM"
   ]
  },
  {
   "cell_type": "code",
   "execution_count": 21,
   "metadata": {},
   "outputs": [
    {
     "name": "stdout",
     "output_type": "stream",
     "text": [
      "[[1.         3.         4.         2.         4.        ]\n",
      " [0.33333333 1.         3.         2.         4.        ]\n",
      " [0.25       0.33333333 1.         2.         2.        ]\n",
      " [0.5        0.5        0.5        1.         2.        ]\n",
      " [0.25       0.25       2.         0.5        1.        ]]\n"
     ]
    }
   ],
   "source": [
    "# R = Resolusi H= Harga Btr = Baterai V= Video Bt = Berat\n",
    "MPBK = np.array([ \n",
    "  #R   H   Btr   V    Br\n",
    "[1/1, 3/1, 4/1, 2/1, 4/1], # R\n",
    "[1/3, 1/1, 3/1, 2/1, 4/1], # H\n",
    "[1/4, 1/3, 1/1, 2/1, 2/1], # Btr\n",
    "[1/2, 1/2, 1/2, 1/1, 2/1], # V\n",
    "[1/4, 1/4, 2/1, 1/2 ,1/1]  # Br\n",
    "])\n",
    "print(MPBK)"
   ]
  },
  {
   "cell_type": "code",
   "execution_count": 22,
   "metadata": {},
   "outputs": [
    {
     "name": "stdout",
     "output_type": "stream",
     "text": [
      "\n",
      " Normalisasi\n",
      "[[0.42857143 0.59016393 0.38095238 0.26666667 0.30769231]\n",
      " [0.14285714 0.19672131 0.28571429 0.26666667 0.30769231]\n",
      " [0.10714286 0.06557377 0.0952381  0.26666667 0.15384615]\n",
      " [0.21428571 0.09836066 0.04761905 0.13333333 0.15384615]\n",
      " [0.10714286 0.04918033 0.19047619 0.06666667 0.07692308]]\n"
     ]
    }
   ],
   "source": [
    "w_MPBK = hitung_normalisasi(MPBK)\n",
    "print(w_MPBK)"
   ]
  },
  {
   "cell_type": "code",
   "execution_count": 23,
   "metadata": {},
   "outputs": [
    {
     "name": "stdout",
     "output_type": "stream",
     "text": [
      "[0.39480934 0.23993034 0.13769351 0.12948898 0.09807782]\n"
     ]
    }
   ],
   "source": [
    "m, n = w_MPBK.shape\n",
    "V = np.zeros(m)\n",
    "for i in range(m):\n",
    "    V[i] = np.sum(w_MPBK[i,:])\n",
    "    \n",
    "w_MPBK = V / m\n",
    "print(w_MPBK)"
   ]
  },
  {
   "cell_type": "markdown",
   "metadata": {},
   "source": [
    "# STEP 1 : Resolusi"
   ]
  },
  {
   "cell_type": "code",
   "execution_count": 24,
   "metadata": {},
   "outputs": [],
   "source": [
    "# RESOLUSI\n",
    "A1= 20 \n",
    "A2= 24 \n",
    "A3= 24 \n",
    "A4= 26 \n",
    "A5= 20 \n",
    "\n",
    "m_R= np.array([A1,A2,A3,A4,A5])"
   ]
  },
  {
   "cell_type": "code",
   "execution_count": 25,
   "metadata": {},
   "outputs": [
    {
     "name": "stdout",
     "output_type": "stream",
     "text": [
      "\n",
      " Normalisasi\n",
      "[0.1754386  0.21052632 0.21052632 0.22807018 0.1754386 ]\n"
     ]
    }
   ],
   "source": [
    "w_R = hitung_normalisasi(m_R)\n",
    "print(w_R)"
   ]
  },
  {
   "cell_type": "markdown",
   "metadata": {},
   "source": [
    "# Step 2 : Harga\n"
   ]
  },
  {
   "cell_type": "code",
   "execution_count": 26,
   "metadata": {},
   "outputs": [],
   "source": [
    "# Harga\n",
    "A1= 42000000 \n",
    "A2= 38000000 \n",
    "A3= 39000000  \n",
    "A4= 29000000  \n",
    "A5= 21000000  \n",
    "\n",
    "m_H= np.array([A1,A2,A3,A4,A5])"
   ]
  },
  {
   "cell_type": "code",
   "execution_count": 27,
   "metadata": {},
   "outputs": [
    {
     "name": "stdout",
     "output_type": "stream",
     "text": [
      "\n",
      " Normalisasi\n",
      "[0.24852071 0.22485207 0.23076923 0.17159763 0.12426036]\n"
     ]
    }
   ],
   "source": [
    "w_H = hitung_normalisasi(m_H)\n",
    "print(w_H)"
   ]
  },
  {
   "cell_type": "markdown",
   "metadata": {},
   "source": [
    "# Step 3 : Baterai"
   ]
  },
  {
   "cell_type": "code",
   "execution_count": 28,
   "metadata": {},
   "outputs": [],
   "source": [
    "A1= 510 \n",
    "A2= 360\n",
    "A3= 610 \n",
    "A4= 500\n",
    "A5= 400\n",
    "m_B= np.array([A1,A2,A3,A4,A5])"
   ]
  },
  {
   "cell_type": "code",
   "execution_count": 29,
   "metadata": {},
   "outputs": [
    {
     "name": "stdout",
     "output_type": "stream",
     "text": [
      "\n",
      " Normalisasi\n",
      "[0.21428571 0.1512605  0.25630252 0.21008403 0.16806723]\n"
     ]
    }
   ],
   "source": [
    "w_B = hitung_normalisasi(m_B)\n",
    "print(w_B)"
   ]
  },
  {
   "cell_type": "markdown",
   "metadata": {},
   "source": [
    "# Step 4 : Video"
   ]
  },
  {
   "cell_type": "code",
   "execution_count": 30,
   "metadata": {},
   "outputs": [],
   "source": [
    "A1= 60\n",
    "A2= 120\n",
    "A3= 60 \n",
    "A4= 60\n",
    "A5= 60\n",
    "m_V= np.array([A1,A2,A3,A4,A5])"
   ]
  },
  {
   "cell_type": "code",
   "execution_count": 31,
   "metadata": {},
   "outputs": [
    {
     "name": "stdout",
     "output_type": "stream",
     "text": [
      "\n",
      " Normalisasi\n",
      "[0.16666667 0.33333333 0.16666667 0.16666667 0.16666667]\n"
     ]
    }
   ],
   "source": [
    "w_V = hitung_normalisasi(m_V)\n",
    "print(w_V)"
   ]
  },
  {
   "cell_type": "markdown",
   "metadata": {},
   "source": [
    "# Step 5 : Berat"
   ]
  },
  {
   "cell_type": "code",
   "execution_count": 32,
   "metadata": {},
   "outputs": [],
   "source": [
    "A1= 680\n",
    "A2= 705\n",
    "A3= 650\n",
    "A4= 607\n",
    "A5= 725\n",
    "m_Br= np.array([A1,A2,A3,A4,A5])"
   ]
  },
  {
   "cell_type": "code",
   "execution_count": 33,
   "metadata": {},
   "outputs": [
    {
     "name": "stdout",
     "output_type": "stream",
     "text": [
      "\n",
      " Normalisasi\n",
      "[0.2019602  0.20938521 0.19305019 0.18027918 0.21532522]\n"
     ]
    }
   ],
   "source": [
    "w_Br = hitung_normalisasi(m_Br)\n",
    "print(w_Br)"
   ]
  },
  {
   "cell_type": "markdown",
   "metadata": {},
   "source": [
    "# FINISHING"
   ]
  },
  {
   "cell_type": "code",
   "execution_count": 34,
   "metadata": {},
   "outputs": [
    {
     "name": "stdout",
     "output_type": "stream",
     "text": [
      "[[0.1754386  0.24852071 0.21428571 0.16666667 0.2019602 ]\n",
      " [0.21052632 0.22485207 0.1512605  0.33333333 0.20938521]\n",
      " [0.21052632 0.23076923 0.25630252 0.16666667 0.19305019]\n",
      " [0.22807018 0.17159763 0.21008403 0.16666667 0.18027918]\n",
      " [0.1754386  0.12426036 0.16806723 0.16666667 0.21532522]]\n"
     ]
    }
   ],
   "source": [
    "wM = np.column_stack((w_R, w_H, w_B, w_V, w_Br))\n",
    "print(wM)"
   ]
  },
  {
   "cell_type": "code",
   "execution_count": 35,
   "metadata": {},
   "outputs": [
    {
     "name": "stdout",
     "output_type": "stream",
     "text": [
      "[0.19978752 0.22159322 0.21429293 0.19940581 0.16492052]\n"
     ]
    }
   ],
   "source": [
    "mC_Scores = np.dot(wM, w_MPBK)\n",
    "print(mC_Scores)"
   ]
  }
 ],
 "metadata": {
  "kernelspec": {
   "display_name": "Python 3",
   "language": "python",
   "name": "python3"
  },
  "language_info": {
   "codemirror_mode": {
    "name": "ipython",
    "version": 3
   },
   "file_extension": ".py",
   "mimetype": "text/x-python",
   "name": "python",
   "nbconvert_exporter": "python",
   "pygments_lexer": "ipython3",
   "version": "3.13.2"
  }
 },
 "nbformat": 4,
 "nbformat_minor": 2
}
